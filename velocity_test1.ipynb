{
 "cells": [
  {
   "cell_type": "code",
   "execution_count": 9,
   "metadata": {},
   "outputs": [],
   "source": [
    "\n",
    "# load modules for plotting\n",
    "import matplotlib\n",
    "import matplotlib.pyplot as plt\n",
    "\n",
    "# load modules from the librosa library for acoustic processing and analysis\n",
    "import librosa\n",
    "import librosa.display # for displaying acoustic information\n",
    "import librosa.feature # for extracting and working with audio features\n",
    "\n",
    "# load modules for writing sound files\n",
    "import soundfile as sf\n",
    "\n",
    "# load module for playing sound files within the notebook\n",
    "from IPython.display import Audio, display\n",
    "\n",
    "\n",
    "# load module with audio loss functions\n",
    "#import auraloss\n",
    "\n",
    "# load modules for doing math\n",
    "import pandas as pd\n",
    "import numpy as np\n",
    "\n",
    "# load module for measuring time (as during training)\n",
    "# and define two functions for measuring and displaying time\n",
    "import time\n",
    "\n",
    "def timeSince(since):\n",
    "    now = time.time()\n",
    "    s = now - since\n",
    "    return s\n",
    "\n",
    "def asMinutes(s):\n",
    "    if type(s) is str:\n",
    "      return s\n",
    "    else:\n",
    "      m = np.floor(s / 60)\n",
    "      s -= m * 60\n",
    "      return '%dm %ds' % (m, s)\n",
    "      "
   ]
  },
  {
   "cell_type": "code",
   "execution_count": 14,
   "metadata": {},
   "outputs": [],
   "source": [
    "# get the duration of a sound file given the file name 'fn'\n",
    "def get_dur(fn):\n",
    "  timeseries, sample_rate = librosa.load(fn)\n",
    "  dur = librosa.get_duration(y=timeseries, # measure the duration of the sound clip,\n",
    "                             sr=sample_rate) # assuming sample rate \"sr\"\n",
    "  return dur\n",
    "\n",
    "# using liftering, export an audio file to filename 'fn' from the mfcc features as a torch tensor in sequence format\n",
    "def lifter_mfcc_array(mfcc):\n",
    "  mel_from_mfcc = librosa.feature.inverse.mfcc_to_mel(mfcc)\n",
    "  fourier_from_mel = librosa.feature.inverse.mel_to_stft(mel_from_mfcc)\n",
    "  return fourier_from_mel\n",
    "\n",
    "# get audio data, including fourier representation and mfcc features,\n",
    "# from a sound file given the file name 'fn'\n",
    "def process_audio(fn, n_mfcc_list = [12], duration = 0, offset = 0):\n",
    "  out_dict = {}\n",
    "  if duration == 0:\n",
    "    timeseries, sample_rate = librosa.load(fn, offset = offset)\n",
    "  else:\n",
    "    timeseries, sample_rate = librosa.load(fn, duration = duration, offset = offset)\n",
    "  timeseries = librosa.effects.preemphasis(timeseries) # apply a pre-emphasis filter\n",
    "  dur = librosa.get_duration(y=timeseries, # measure the duration of the sound clip,\n",
    "                                sr=sample_rate) # assuming sample rate \"sr\"\n",
    "  fourier = np.abs(librosa.stft(timeseries))\n",
    "  mfcc_dict = {}\n",
    "  for n_mfcc in n_mfcc_list:\n",
    "    mfcc = librosa.feature.mfcc(y=timeseries, sr=sample_rate, n_mfcc = n_mfcc)\n",
    "    mfcc_dict[str(n_mfcc)] = mfcc\n",
    "  #liftered = lifter_mfcc_array(mfcc)\n",
    "  #liftered_tensor = convert_to_tensor(liftered)\n",
    "  out_dict[\"fn\"] = fn\n",
    "  out_dict[\"sr\"] = sample_rate\n",
    "  out_dict[\"start\"] = offset\n",
    "  out_dict[\"end\"] = offset + duration\n",
    "  out_dict[\"dur\"] = dur\n",
    "  out_dict[\"fourier\"] = fourier\n",
    "  out_dict[\"mfcc\"] = mfcc_dict\n",
    "  #out_dict[\"liftered\"] = liftered_tensor\n",
    "  return out_dict\n",
    "\n",
    "def lifter_mfcc(mfcc):\n",
    "  mel_from_mfcc = librosa.feature.inverse.mfcc_to_mel(mfcc)\n",
    "  fourier_from_mel = librosa.feature.inverse.mel_to_stft(mel_from_mfcc)\n",
    "  return fourier_from_mel\n",
    "\n",
    "def plot_mel_spectrogram(fourier,sr):\n",
    "  timeseries_from_fourier = librosa.griffinlim(fourier)\n",
    "  mel = librosa.feature.melspectrogram(timeseries_from_fourier,sr)\n",
    "  fig, ax = plt.subplots()\n",
    "  ax.set_aspect(1/1000)\n",
    "  mel_dB = librosa.power_to_db(mel, ref=np.max)\n",
    "  img = librosa.display.specshow(mel_dB, x_axis='time',\n",
    "                         y_axis='mel', sr=sr, cmap='gray_r',\n",
    "                         fmax=5500, ax=ax)\n",
    "  title = ax.set(title='Mel-frequency spectrogram')\n",
    "\n",
    "# export an audio file to filename 'fn' from the fourier representation as a torch tensor in sequence format\n",
    "def export_audio(fn,fourier,sr):\n",
    "  timeseries_from_fourier = librosa.griffinlim(fourier)\n",
    "  timeseries_from_fourier = librosa.effects.deemphasis(timeseries_from_fourier) # undo the preemphasis filter\n",
    "  sf.write(fn, timeseries_from_fourier, sr, subtype='PCM_24')"
   ]
  },
  {
   "cell_type": "code",
   "execution_count": 11,
   "metadata": {},
   "outputs": [],
   "source": [
    "folder = \"sound\"\n",
    "filenames = [\"greatgatsby\",\"greatgatsby2\"] # list of filenames without extensions\n",
    "filenames = [folder+\"/\"+fn+\".wav\" for fn in filenames] # add the .wav extension to the end of each filename"
   ]
  },
  {
   "cell_type": "code",
   "execution_count": 26,
   "metadata": {},
   "outputs": [
    {
     "name": "stdout",
     "output_type": "stream",
     "text": [
      "Duration = 8.9s\n",
      "dict_keys(['fn', 'sr', 'start', 'end', 'dur', 'fourier', 'mfcc'])\n",
      "Fourier Data Dimensions = (1025, 384)\n",
      "MFCC12 Data Dimensions = (12, 384)\n",
      "MFCC20 Data Dimensions = (20, 384)\n",
      "MFCC80 Data Dimensions = (80, 384)\n"
     ]
    }
   ],
   "source": [
    "clip_data = process_audio(filenames[0],\n",
    "                          duration=8.9,\n",
    "                          offset=49.7,\n",
    "                          n_mfcc_list=[12,20,80])\n",
    "\n",
    "sr_clip = clip_data[\"sr\"]\n",
    "dur_clip = clip_data[\"dur\"]\n",
    "print(f'Duration = {dur_clip}s') # display the duration of the sound clip\n",
    "\n",
    "print(clip_data.keys())\n",
    "\n",
    "print(f'Fourier Data Dimensions = {clip_data[\"fourier\"].shape}') # display the dimensions of the fourier data\n",
    "print(f'MFCC12 Data Dimensions = {clip_data[\"mfcc\"][\"12\"].shape}') # display the dimensions of the mfcc data\n",
    "print(f'MFCC20 Data Dimensions = {clip_data[\"mfcc\"][\"20\"].shape}') # display the dimensions of the mfcc data\n",
    "print(f'MFCC80 Data Dimensions = {clip_data[\"mfcc\"][\"80\"].shape}') # display the dimensions of the mfcc data"
   ]
  },
  {
   "cell_type": "code",
   "execution_count": 28,
   "metadata": {},
   "outputs": [
    {
     "ename": "TypeError",
     "evalue": "melspectrogram() takes 0 positional arguments but 2 were given",
     "output_type": "error",
     "traceback": [
      "\u001b[0;31m---------------------------------------------------------------------------\u001b[0m",
      "\u001b[0;31mTypeError\u001b[0m                                 Traceback (most recent call last)",
      "\u001b[0;32m/var/folders/51/7fj4w38x7ydg8ckmrw3l6b7w0000gn/T/ipykernel_27254/112047215.py\u001b[0m in \u001b[0;36m<module>\u001b[0;34m\u001b[0m\n\u001b[1;32m      1\u001b[0m \u001b[0;31m# full quality audio recovered directly from the fourier data\u001b[0m\u001b[0;34m\u001b[0m\u001b[0;34m\u001b[0m\u001b[0m\n\u001b[0;32m----> 2\u001b[0;31m \u001b[0mplot_mel_spectrogram\u001b[0m\u001b[0;34m(\u001b[0m\u001b[0mclip_data\u001b[0m\u001b[0;34m[\u001b[0m\u001b[0;34m\"fourier\"\u001b[0m\u001b[0;34m]\u001b[0m\u001b[0;34m,\u001b[0m\u001b[0mclip_data\u001b[0m\u001b[0;34m[\u001b[0m\u001b[0;34m\"sr\"\u001b[0m\u001b[0;34m]\u001b[0m\u001b[0;34m)\u001b[0m\u001b[0;34m\u001b[0m\u001b[0;34m\u001b[0m\u001b[0m\n\u001b[0m\u001b[1;32m      3\u001b[0m \u001b[0mexport_audio\u001b[0m\u001b[0;34m(\u001b[0m\u001b[0;34m'clip_from_fourier.wav'\u001b[0m\u001b[0;34m,\u001b[0m \u001b[0mclip_data\u001b[0m\u001b[0;34m[\u001b[0m\u001b[0;34m\"fourier\"\u001b[0m\u001b[0;34m]\u001b[0m\u001b[0;34m,\u001b[0m \u001b[0mclip_data\u001b[0m\u001b[0;34m[\u001b[0m\u001b[0;34m\"sr\"\u001b[0m\u001b[0;34m]\u001b[0m\u001b[0;34m)\u001b[0m\u001b[0;34m\u001b[0m\u001b[0;34m\u001b[0m\u001b[0m\n\u001b[1;32m      4\u001b[0m \u001b[0;34m\u001b[0m\u001b[0m\n\u001b[1;32m      5\u001b[0m \u001b[0mAudio\u001b[0m\u001b[0;34m(\u001b[0m\u001b[0;34m'clip_from_fourier.wav'\u001b[0m\u001b[0;34m)\u001b[0m\u001b[0;34m\u001b[0m\u001b[0;34m\u001b[0m\u001b[0m\n",
      "\u001b[0;32m/var/folders/51/7fj4w38x7ydg8ckmrw3l6b7w0000gn/T/ipykernel_27254/547282388.py\u001b[0m in \u001b[0;36mplot_mel_spectrogram\u001b[0;34m(fourier, sr)\u001b[0m\n\u001b[1;32m     47\u001b[0m \u001b[0;32mdef\u001b[0m \u001b[0mplot_mel_spectrogram\u001b[0m\u001b[0;34m(\u001b[0m\u001b[0mfourier\u001b[0m\u001b[0;34m,\u001b[0m\u001b[0msr\u001b[0m\u001b[0;34m)\u001b[0m\u001b[0;34m:\u001b[0m\u001b[0;34m\u001b[0m\u001b[0;34m\u001b[0m\u001b[0m\n\u001b[1;32m     48\u001b[0m   \u001b[0mtimeseries_from_fourier\u001b[0m \u001b[0;34m=\u001b[0m \u001b[0mlibrosa\u001b[0m\u001b[0;34m.\u001b[0m\u001b[0mgriffinlim\u001b[0m\u001b[0;34m(\u001b[0m\u001b[0mfourier\u001b[0m\u001b[0;34m)\u001b[0m\u001b[0;34m\u001b[0m\u001b[0;34m\u001b[0m\u001b[0m\n\u001b[0;32m---> 49\u001b[0;31m   \u001b[0mmel\u001b[0m \u001b[0;34m=\u001b[0m \u001b[0mlibrosa\u001b[0m\u001b[0;34m.\u001b[0m\u001b[0mfeature\u001b[0m\u001b[0;34m.\u001b[0m\u001b[0mmelspectrogram\u001b[0m\u001b[0;34m(\u001b[0m\u001b[0mtimeseries_from_fourier\u001b[0m\u001b[0;34m,\u001b[0m\u001b[0msr\u001b[0m\u001b[0;34m)\u001b[0m\u001b[0;34m\u001b[0m\u001b[0;34m\u001b[0m\u001b[0m\n\u001b[0m\u001b[1;32m     50\u001b[0m   \u001b[0mfig\u001b[0m\u001b[0;34m,\u001b[0m \u001b[0max\u001b[0m \u001b[0;34m=\u001b[0m \u001b[0mplt\u001b[0m\u001b[0;34m.\u001b[0m\u001b[0msubplots\u001b[0m\u001b[0;34m(\u001b[0m\u001b[0;34m)\u001b[0m\u001b[0;34m\u001b[0m\u001b[0;34m\u001b[0m\u001b[0m\n\u001b[1;32m     51\u001b[0m   \u001b[0max\u001b[0m\u001b[0;34m.\u001b[0m\u001b[0mset_aspect\u001b[0m\u001b[0;34m(\u001b[0m\u001b[0;36m1\u001b[0m\u001b[0;34m/\u001b[0m\u001b[0;36m1000\u001b[0m\u001b[0;34m)\u001b[0m\u001b[0;34m\u001b[0m\u001b[0;34m\u001b[0m\u001b[0m\n",
      "\u001b[0;31mTypeError\u001b[0m: melspectrogram() takes 0 positional arguments but 2 were given"
     ]
    }
   ],
   "source": [
    "# full quality audio recovered directly from the fourier data\n",
    "plot_mel_spectrogram(clip_data[\"fourier\"],clip_data[\"sr\"])\n",
    "export_audio('clip_from_fourier.wav', clip_data[\"fourier\"], clip_data[\"sr\"])\n",
    "\n",
    "Audio('clip_from_fourier.wav')"
   ]
  },
  {
   "cell_type": "code",
   "execution_count": null,
   "metadata": {},
   "outputs": [],
   "source": []
  }
 ],
 "metadata": {
  "kernelspec": {
   "display_name": "Python 3",
   "language": "python",
   "name": "python3"
  },
  "language_info": {
   "codemirror_mode": {
    "name": "ipython",
    "version": 3
   },
   "file_extension": ".py",
   "mimetype": "text/x-python",
   "name": "python",
   "nbconvert_exporter": "python",
   "pygments_lexer": "ipython3",
   "version": "3.9.7"
  },
  "orig_nbformat": 4,
  "vscode": {
   "interpreter": {
    "hash": "22e063590cda89f340226e0f2715be6bd30a2fe6bb3ff0bf25dac31843570d97"
   }
  }
 },
 "nbformat": 4,
 "nbformat_minor": 2
}
