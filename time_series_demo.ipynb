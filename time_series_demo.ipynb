{
 "cells": [
  {
   "attachments": {},
   "cell_type": "markdown",
   "metadata": {},
   "source": [
    "## Set-up"
   ]
  },
  {
   "attachments": {},
   "cell_type": "markdown",
   "metadata": {},
   "source": [
    "### Load modules"
   ]
  },
  {
   "cell_type": "code",
   "execution_count": 1,
   "metadata": {},
   "outputs": [],
   "source": [
    "import os # module for interacting with files and folders\n",
    "from audio_processing import *\n",
    "from audio_display import *\n",
    "from array_manipulation import *\n",
    "from load_audio import *\n",
    "from feature_normalize import *\n",
    "from pca_paths import *\n",
    "from frame_clustering import *\n",
    "from segments import *\n",
    "from time_series import *"
   ]
  },
  {
   "attachments": {},
   "cell_type": "markdown",
   "metadata": {},
   "source": [
    "### Load Audio Files"
   ]
  },
  {
   "cell_type": "code",
   "execution_count": 2,
   "metadata": {},
   "outputs": [],
   "source": [
    "paths = [r'sound/American-English/Narrative',\n",
    "        r'sound/American-English/Consonants',\n",
    "        r'sound/American-English/Vowels',\n",
    "        r'sound/Non-speech']\n",
    "\n",
    "out_path = 'sound/out/'\n",
    "\n",
    "fns,audio_data = load_audio(paths_list=paths, pad=0,nonspeech_dur=0)\n",
    "\n",
    "narrative_fns,consonants_fns,vowels_fns,nonspeech_fns = fns\n",
    "narrative_data,consonants_data,vowels_data,nonspeech_data = audio_data"
   ]
  },
  {
   "attachments": {},
   "cell_type": "markdown",
   "metadata": {},
   "source": [
    "### Normalization from Narrative Data"
   ]
  },
  {
   "cell_type": "code",
   "execution_count": 3,
   "metadata": {},
   "outputs": [
    {
     "name": "stdout",
     "output_type": "stream",
     "text": [
      "(9549, 12)\n",
      "Explained variance ratio: \n",
      "[0.27587196 0.17633554 0.15477893]\n"
     ]
    }
   ],
   "source": [
    "narr = get_narr(narrative_fns,pad=0)\n",
    "narr_scaler = get_scaler(narrative_fns)\n",
    "\n",
    "narr_frames = np.transpose(norm_array_hor(narr,narr_scaler))\n",
    "print(narr_frames.shape)\n",
    "\n",
    "narr_pca = PCA(n_components=3).fit(narr_frames)\n",
    "narr_pcs = narr_pca.transform(narr_frames)\n",
    "print(f'Explained variance ratio: \\n{narr_pca.explained_variance_ratio_}')"
   ]
  },
  {
   "cell_type": "code",
   "execution_count": 4,
   "metadata": {},
   "outputs": [
    {
     "name": "stdout",
     "output_type": "stream",
     "text": [
      "dict_keys(['Bird', 'Bed', 'Bid', 'Above', 'Bayed', 'Good', 'Buy', 'Bud', 'Bead', 'Bough', 'Bad', 'Boy', 'Booed', 'Bode', 'Pod', 'Sigh', 'Shy', 'Fie', 'Rye', 'Die', 'Why', 'Hang', 'Guy', 'Thigh', 'You', 'Thy', 'Gin', 'Vie', 'My', 'Azure', 'Tie', 'High', 'Pie', 'Kite', 'Chin', 'Lie', 'Nigh', 'Zoo', 'Train', 'Water'])\n",
      "dict_keys(['frames', 'pca'])\n",
      "(202, 12)\n",
      "(202, 3)\n"
     ]
    }
   ],
   "source": [
    "clip_dict = {}\n",
    "path_test_fns = vowels_fns+consonants_fns+nonspeech_fns\n",
    "for clip_fn in path_test_fns:\n",
    "  name = clip_fn.split(\"/\")[-1].split(\".\")[0].title()\n",
    "  clip_data = process_audio(clip_fn,n_mfcc_list=[12],pad = 0)\n",
    "  fourier = clip_data[\"fourier\"]\n",
    "  sr = clip_data[\"sr\"]\n",
    "  normed_mfcc = norm_array_hor(clip_data[\"mfcc\"][\"12\"],narr_scaler)\n",
    "  clip_frames = np.transpose(normed_mfcc)\n",
    "  clip_pca = narr_pca.transform(clip_frames)\n",
    "  clip_dict[name] = {\"frames\":clip_frames,\"pca\":clip_pca}\n",
    "\n",
    "print(clip_dict.keys())\n",
    "print(clip_dict[\"Bird\"].keys())\n",
    "print(clip_dict[\"Bird\"]['frames'].shape)\n",
    "print(clip_dict[\"Bird\"]['pca'].shape)"
   ]
  },
  {
   "attachments": {},
   "cell_type": "markdown",
   "metadata": {},
   "source": [
    "### Generate Bouquet"
   ]
  },
  {
   "attachments": {},
   "cell_type": "markdown",
   "metadata": {},
   "source": [
    "#### Segmentation"
   ]
  },
  {
   "cell_type": "code",
   "execution_count": 5,
   "metadata": {},
   "outputs": [
    {
     "name": "stdout",
     "output_type": "stream",
     "text": [
      "Sample rate = 22050\n",
      "Frame Width = 2.902 ms\n",
      "Clip length = 27.716 s\n",
      "Number of segments: 278\n"
     ]
    },
    {
     "data": {
      "image/png": "[encoded data removed]",
      "text/plain": [
       "<Figure size 432x288 with 2 Axes>"
      ]
     },
     "metadata": {
      "needs_background": "light"
     },
     "output_type": "display_data"
    }
   ],
   "source": [
    "narr_len = len(narr_frames)\n",
    "\n",
    "res = 3\n",
    "sr = sr\n",
    "hop = 2**(9-res)\n",
    "w = hop/sr\n",
    "\n",
    "sig_figs = 3\n",
    "\n",
    "print(f\"Sample rate = {sr}\")\n",
    "print(f\"Frame Width = {round(1000*w,sig_figs)} ms\")\n",
    "print(f\"Clip length = {round(w*narr_len,sig_figs)} s\")\n",
    "even_segmentation = get_even_segments(narr_len,frame_w=w,seg_ms=100)\n",
    "print(f\"Number of segments: {len(even_segmentation)}\")\n",
    "\n",
    "plot_segments_on_mfcc(np.transpose(narr_frames),even_segmentation,sr,title=f\"Narrative segmentation \",line_color='black')"
   ]
  },
  {
   "attachments": {},
   "cell_type": "markdown",
   "metadata": {},
   "source": [
    "#### Bouquet\n"
   ]
  },
  {
   "cell_type": "code",
   "execution_count": 6,
   "metadata": {},
   "outputs": [
    {
     "name": "stdout",
     "output_type": "stream",
     "text": [
      "Number of intervals in bouquet = 551\n",
      "Number of 1-segment intervals = 0\n",
      "Number of 2-segment intervals = 277\n",
      "Number of 3-segment intervals = 0\n",
      "Number of 4-segment intervals = 0\n",
      "Number of 5-segment intervals = 274\n"
     ]
    }
   ],
   "source": [
    "narr_bouquet = get_bouquet(even_segmentation,n_iter=[2,5],text_method = 'count')\n",
    "print(f'Number of intervals in bouquet = {len(narr_bouquet)}')\n",
    "for i in [1,2,3,4,5]:\n",
    "    print(f'Number of {i}-segment intervals = {len([s for s in narr_bouquet if s[\"text\"] == str(i)])}')"
   ]
  },
  {
   "attachments": {},
   "cell_type": "markdown",
   "metadata": {},
   "source": [
    "#### Split MFCC"
   ]
  },
  {
   "cell_type": "code",
   "execution_count": 9,
   "metadata": {},
   "outputs": [
    {
     "name": "stdout",
     "output_type": "stream",
     "text": [
      "551\n"
     ]
    }
   ],
   "source": [
    "split_mfcc = split_frames(narr_bouquet,narr_frames)\n",
    "print(len(split_mfcc))\n",
    "j = 1\n",
    "for i,(interval,mfcc) in enumerate(zip(narr_bouquet,split_mfcc)):\n",
    "    if interval[\"text\"] == str(int(j)):\n",
    "        plot_mfcc(np.transpose(mfcc),title=f'interval #{i+1}: \\\"{interval[\"text\"]}\\\" ',sr= clip_data[\"sr\"])\n",
    "        j += 0.5\n",
    "    if j > 3:\n",
    "        pass\n",
    "        #break\n",
    "\n",
    "#split_fourier = split_frames(segmentation,np.transpose(word_data[\"fourier\"]))"
   ]
  },
  {
   "attachments": {},
   "cell_type": "markdown",
   "metadata": {},
   "source": [
    "## Comparing to a Bouqet"
   ]
  },
  {
   "cell_type": "code",
   "execution_count": 10,
   "metadata": {},
   "outputs": [
    {
     "name": "stdout",
     "output_type": "stream",
     "text": [
      "0.0\n",
      "46.062891410020285\n",
      "25.456765992929448\n",
      "38.689126701096235\n"
     ]
    }
   ],
   "source": [
    "narr_mfcc = split_mfcc[280]\n",
    "word_mfcc_1 = clip_dict[\"Buy\"][\"frames\"]\n",
    "word_mfcc_2 = clip_dict[\"Sigh\"][\"frames\"]\n",
    "word_mfcc_3 = clip_dict[\"Bid\"][\"frames\"]\n",
    "print(dtw(word_mfcc_1,word_mfcc_1))\n",
    "print(dtw(word_mfcc_1,narr_mfcc))\n",
    "print(dtw(word_mfcc_1,word_mfcc_2))\n",
    "print(dtw(word_mfcc_1,word_mfcc_3))"
   ]
  },
  {
   "cell_type": "code",
   "execution_count": 11,
   "metadata": {},
   "outputs": [
    {
     "name": "stdout",
     "output_type": "stream",
     "text": [
      "Recurrence score: 0.234,Length: 0.586, Word: Bird\n",
      "Recurrence score: 0.308,Length: 0.517, Word: Bed\n",
      "Recurrence score: 0.303,Length: 0.528, Word: Bid\n",
      "Recurrence score: 0.269,Length: 0.67, Word: Above\n",
      "Recurrence score: 0.283,Length: 0.517, Word: Bayed\n",
      "Recurrence score: 0.329,Length: 0.531, Word: Good\n",
      "Recurrence score: 0.303,Length: 0.499, Word: Buy\n",
      "Recurrence score: 0.318,Length: 0.499, Word: Bud\n",
      "Recurrence score: 0.226,Length: 0.601, Word: Bead\n",
      "Recurrence score: 0.304,Length: 0.514, Word: Bough\n",
      "Recurrence score: 0.261,Length: 0.639, Word: Bad\n",
      "Recurrence score: 0.242,Length: 0.578, Word: Boy\n",
      "Recurrence score: 0.289,Length: 0.566, Word: Booed\n",
      "Recurrence score: 0.329,Length: 0.546, Word: Bode\n",
      "Recurrence score: 0.278,Length: 0.601, Word: Pod\n",
      "Recurrence score: 0.25,Length: 0.65, Word: Sigh\n",
      "Recurrence score: 0.211,Length: 0.734, Word: Shy\n",
      "Recurrence score: 0.304,Length: 0.583, Word: Fie\n",
      "Recurrence score: 0.213,Length: 0.636, Word: Rye\n",
      "Recurrence score: 0.313,Length: 0.485, Word: Die\n",
      "Recurrence score: 0.218,Length: 0.644, Word: Why\n",
      "Recurrence score: 0.29,Length: 0.61, Word: Hang\n",
      "Recurrence score: 0.228,Length: 0.685, Word: Guy\n",
      "Recurrence score: 0.278,Length: 0.607, Word: Thigh\n",
      "Recurrence score: 0.282,Length: 0.453, Word: You\n",
      "Recurrence score: 0.264,Length: 0.633, Word: Thy\n",
      "Recurrence score: 0.25,Length: 0.612, Word: Gin\n",
      "Recurrence score: 0.278,Length: 0.595, Word: Vie\n",
      "Recurrence score: 0.233,Length: 0.63, Word: My\n",
      "Recurrence score: 0.203,Length: 0.737, Word: Azure\n",
      "Recurrence score: 0.332,Length: 0.476, Word: Tie\n",
      "Recurrence score: 0.282,Length: 0.615, Word: High\n",
      "Recurrence score: 0.287,Length: 0.546, Word: Pie\n",
      "Recurrence score: 0.251,Length: 0.636, Word: Kite\n",
      "Recurrence score: 0.248,Length: 0.592, Word: Chin\n",
      "Recurrence score: 0.213,Length: 0.659, Word: Lie\n",
      "Recurrence score: 0.234,Length: 0.627, Word: Nigh\n",
      "Recurrence score: 0.258,Length: 0.627, Word: Zoo\n",
      "Recurrence score: 0.014,Length: 9.302, Word: Train\n",
      "Recurrence score: 0.011,Length: 13.468, Word: Water\n"
     ]
    }
   ],
   "source": [
    "score_data = []\n",
    "for word in clip_dict.keys():\n",
    "    word_frames = clip_dict[word][\"frames\"]\n",
    "    score = recurrence_score(word_frames,split_mfcc)\n",
    "    length = word_frames.shape[0]*w\n",
    "    score_data.append((length,score))\n",
    "    print(f'Recurrence score: {round(score,3)},Length: {round(length,3)}, Word: {word}')"
   ]
  },
  {
   "cell_type": "code",
   "execution_count": 12,
   "metadata": {},
   "outputs": [
    {
     "data": {
      "image/png": "[encoded data removed]",
      "text/plain": [
       "<Figure size 432x288 with 1 Axes>"
      ]
     },
     "metadata": {
      "needs_background": "light"
     },
     "output_type": "display_data"
    }
   ],
   "source": [
    "fig, ax = plt.subplots()\n",
    "for length,score in score_data[:-2]:\n",
    "    ax.scatter(length,score)\n",
    "    title = ax.set(title=\"Recurrence Score vs. Length\")"
   ]
  },
  {
   "cell_type": "code",
   "execution_count": null,
   "metadata": {},
   "outputs": [],
   "source": []
  }
 ],
 "metadata": {
  "kernelspec": {
   "display_name": "Python 3",
   "language": "python",
   "name": "python3"
  },
  "language_info": {
   "codemirror_mode": {
    "name": "ipython",
    "version": 3
   },
   "file_extension": ".py",
   "mimetype": "text/x-python",
   "name": "python",
   "nbconvert_exporter": "python",
   "pygments_lexer": "ipython3",
   "version": "3.9.7"
  },
  "orig_nbformat": 4
 },
 "nbformat": 4,
 "nbformat_minor": 2
}
